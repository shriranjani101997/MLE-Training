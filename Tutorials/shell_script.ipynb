{
 "cells": [
  {
   "cell_type": "code",
   "execution_count": null,
   "metadata": {},
   "outputs": [],
   "source": [
    "https://swcarpentry.github.io/shell-novice/\n",
    "    "
   ]
  },
  {
   "cell_type": "code",
   "execution_count": null,
   "metadata": {},
   "outputs": [],
   "source": [
    "Shell CONCEPT: The shell is a type of program called an interpreter. \n",
    "    An interpreter operates in a simple loop: It accepts a command, interprets the command, executes the command, and then waits for another command"
   ]
  },
  {
   "cell_type": "code",
   "execution_count": null,
   "metadata": {},
   "outputs": [],
   "source": [
    "A Shell provides you with an interface to the Unix system.\n",
    "It gathers input from you and executes programs based on that input. \n",
    "When a program finishes executing, it displays that program's output. \n",
    "\n",
    "Shell is an environment in which we can run our commands, programs, and shell scripts."
   ]
  },
  {
   "cell_type": "code",
   "execution_count": null,
   "metadata": {},
   "outputs": [],
   "source": [
    "Unix is an operating system. It supports multitasking and multi-user functionality. \n",
    "\n",
    "Unix is most widely used in all forms of computing systems such as desktop, laptop, and servers.\n",
    "\n",
    "On Unix, there is a Graphical user interface similar to windows that support easy navigation and support environment."
   ]
  },
  {
   "cell_type": "code",
   "execution_count": null,
   "metadata": {},
   "outputs": [],
   "source": [
    "The Unix shell has been around longer than most of its users have been alive. \n",
    "\n",
    "It has survived because it’s a powerful tool that allows users to perform complex and powerful tasks, often\n",
    "with just a few keystrokes or lines of code.\n",
    "\n",
    "It helps users automate repetitive tasks and easily combine smaller tasks into larger, more powerful workflows.\n",
    "\n",
    "Use of the shell is fundamental to a wide range of advanced computing tasks, including high-performance computing."
   ]
  },
  {
   "cell_type": "code",
   "execution_count": null,
   "metadata": {},
   "outputs": [],
   "source": [
    "These three commands are the basic commands for navigating the filesystem on your computer: pwd, ls, and cd"
   ]
  },
  {
   "cell_type": "code",
   "execution_count": null,
   "metadata": {},
   "outputs": [],
   "source": [
    "The leading / tells the computer to follow the path from the root of the file system, so it always refers to exactly one directory, \n",
    "no matter where we are when we run the command."
   ]
  },
  {
   "cell_type": "code",
   "execution_count": null,
   "metadata": {},
   "outputs": [],
   "source": [
    "The shell interprets a tilde (~) character at the start of a path to mean “the current user’s home directory”. For example, if Nelle’s home directory is /Users/nelle, then ~/data is equivalent to /Users/nelle/data. This only works if it is the first character in the path: here/there/~/elsewhere is not here/there/Users/nelle/elsewhere"
   ]
  },
  {
   "cell_type": "code",
   "execution_count": null,
   "metadata": {},
   "outputs": [],
   "source": [
    "cd .           No: . stands for the current directory.\n",
    "\n",
    "cd /           No: / stands for the root directory.\n",
    "\n",
    "cd /home/amanda No: Amanda’s home directory is /Users/amanda.\n",
    "\n",
    "cd ../..        No: this command goes up two levels, i.e. ends in /Users.\n",
    "\n",
    "cd ~           Yes: ~ stands for the user’s home directory, in this case /Users/amanda.\n",
    "\n",
    "cd home        No: this command would navigate into a directory home in the current directory if it exists.\n",
    "\n",
    "cd ~/data/..    Yes: unnecessarily complicated, but correct.\n",
    "\n",
    "cd               Yes: shortcut to go back to the user’s home directory.\n",
    "\n",
    "cd ..           Yes: goes up one level.\n",
    "    \n",
    "ls -F           List whether there are files or folders\n",
    "\n",
    "ls -r           Display things in reverse order\n",
    "\n",
    "ls -a           Display hidden files and folders\n",
    "\n",
    "ls -s          Display the size of files and directories alongside the names, \n",
    "\n",
    "ls -S          Sort the files and directories by size\n",
    "\n",
    "\n",
    "ls -F /        listing of files and directories in the root directory /\n",
    "\n",
    "ls -FR ../project     list all nested subdirectories within a directory\n",
    "\n",
    "ls -l         Inspect all the files in the directory\n",
    "\n",
    "ls -l -h      The -l option makes ls use a long listing format, showing not only the file/directory names but also additional information, such as the file size and the time of its last modification. If you use both the -h option and the -l option, \n",
    "                this makes the file size ‘human readable’, i.e. displaying something like 5.3K instead of 5369.\n",
    "\n",
    "ls -r\n",
    "\n",
    "mv file_path_to_be_moved destination   Renaming can also be done in the same way as this\n",
    "\n",
    "mv -i  (mv --interactive), can be used to make mv ask you for confirmation before overwriting. \n",
    "\n",
    "cp  copy  a file from source to dest\n",
    "\n",
    "cp -r copy the folder recursively from source to destination\n",
    "\n",
    "rm -r -i    recursively delete with confirmation\n",
    "\n",
    "wc  word count\n",
    "\n",
    "wc -l  number of lines per file\n",
    "\n",
    "wc -m and wc -w options can also be used with the wc command, to show only the number of characters or the number of words in the files\n",
    "\n",
    "cd -  brings you back to the former folder\n",
    "\n",
    "> tells the shell to redirect the command’s output to a file instead of printing it to the screen\n",
    "\n",
    "sort -n sort in numbemric instead of alpha numeric\n",
    "\n",
    "head -n 20  displays the first 20 lines of a file\n",
    "\n",
    "tail -n 20  displays the last 20 lines of a file\n",
    "\n",
    "The echo command prints text\n",
    "\n",
    ">  the file gets overwritten each time we run the command.\n",
    "\n",
    ">>  appends the string to the file if it already exists\n",
    "\n",
    "|, between the two commands is called a pipe. It tells the shell that we want to use the output of the command on the left as the input to the command on the right.\n",
    "\n",
    "cut -d , -f 2  : cut command cut the line based on the delimitter and take put the nth word.\n",
    "    \n",
    "uniq -c :  a count of the number of times a line occurs in its input but the lines should be sorted.\n",
    "\n",
    "!history_number   to repeat the command in the history\n",
    "\n",
    "Ctrl+R enters a history search mode ‘reverse-i-search’ and finds the most recent command in your history that matches the text you enter next. Press Ctrl+R one or more additional times to search for earlier matches. You can then use the left and right arrow keys to choose that line and edit it then hit Return to run the command.\n",
    "!! retrieves the immediately preceding command (you may or may not find this more convenient than using ↑)\n",
    "!$ retrieves the last word of the last command. \n",
    "That’s useful more often than you might expect: after bash goostats.sh NENE01729B.txt stats-NENE01729B.txt, \n",
    "you can type less !$ to look at the file stats-NENE01729B.txt, which is quicker than doing ↑ and editing the command-line.\n",
    "\n",
    "$@, which means, ‘All of the command-line arguments to the shell script’. We also should put $@ inside double-quotes\n",
    "to handle the case of arguments containing spaces (\"$@\" is special syntax and is equivalent to \"$1\" \"$2\" …).\n",
    "\n",
    "bash -x do-errors.sh NENE*A.txt NENE*B.txt         run the code in debug mode"
   ]
  },
  {
   "cell_type": "code",
   "execution_count": null,
   "metadata": {},
   "outputs": [],
   "source": [
    "The -x option causes bash to run in debug mode. This prints out each command as it is run, which will help you to locate errors. In this example, we can see that echo isn’t printing anything. We have made a typo in the loop variable name, \n",
    "and the variable datfile doesn’t exist, hence returning an empty string."
   ]
  },
  {
   "cell_type": "code",
   "execution_count": null,
   "metadata": {},
   "outputs": [],
   "source": [
    "ls is the command, with an option -F and an argument /. We’ve already encountered options which either start with a single dash (-) or two dashes (--), and they change the behavior of a command. Arguments tell the command what to operate on (e.g. files and directories). Sometimes options and arguments are referred to as parameters. A command can be called with more than one option and more than one argument, but a command doesn’t always require an argument or an option.\n",
    "\n",
    "You might sometimes see options being referred to as switches or flags, especially for options that take no argument. In this lesson we will stick with using the term option."
   ]
  },
  {
   "cell_type": "code",
   "execution_count": null,
   "metadata": {},
   "outputs": [],
   "source": [
    "The file system is responsible for managing information on the disk.\n",
    "\n",
    "Information is stored in files, which are stored in directories (folders).\n",
    "\n",
    "Directories can also store other directories, which then form a directory tree.\n",
    "\n",
    "pwd prints the user’s current working directory.\n",
    "\n",
    "ls [path] prints a listing of a specific file or directory; ls on its own lists the current working directory.\n",
    "\n",
    "cd [path] changes the current working directory.\n",
    "\n",
    "Most commands take options that begin with a single -.\n",
    "\n",
    "Directory names in a path are separated with / on Unix, but \\ on Windows.\n",
    "\n",
    "/ on its own is the root directory of the whole file system.\n",
    "\n",
    "An absolute path specifies a location from the root of the file system.\n",
    "\n",
    "A relative path specifies a location starting from the current location.\n",
    "\n",
    ". on its own means ‘the current directory’; .. means ‘the directory above the current one’.\n",
    "\n"
   ]
  },
  {
   "cell_type": "code",
   "execution_count": null,
   "metadata": {},
   "outputs": [],
   "source": [
    "mkdir -p ../project/data ../project/results  : The -p option allows mkdir to create a directory with nested subdirectories in a single operation:"
   ]
  },
  {
   "cell_type": "code",
   "execution_count": null,
   "metadata": {},
   "outputs": [],
   "source": [
    "Good names for files and directories\n",
    "Complicated names of files and directories can make your life painful when working on the command line. Here we provide a few useful tips for the names of your files and directories.\n",
    "\n",
    "Don’t use spaces.\n",
    "\n",
    "Spaces can make a name more meaningful, but since spaces are used to separate arguments on the command line it is better to avoid them in names of files and directories. You can use - or _ instead (e.g. north-pacific-gyre/ rather than north pacific gyre/). To test this out, try typing mkdir north pacific gyreand see what directory (or directories!) are made when you check with ls -F.\n",
    "\n",
    "Don’t begin the name with - (dash).\n",
    "\n",
    "Commands treat names starting with - as options.\n",
    "\n",
    "Stick with letters, numbers, . (period or ‘full stop’), - (dash) and _ (underscore).\n",
    "\n",
    "Many other characters have special meanings on the command line. We will learn about some of these during this lesson. There are special characters that can cause your command to not work as expected and can even result in data loss.\n",
    "\n",
    "If you need to refer to names of files or directories that have spaces or other special characters, you should surround the name in quotes (\"\")"
   ]
  },
  {
   "cell_type": "code",
   "execution_count": null,
   "metadata": {},
   "outputs": [],
   "source": [
    "On Unix systems (such as Linux and macOS), many programmers use Emacs or Vim (both of which require more time to learn), or a graphical editor such as Gedit. On Windows, you may wish to use Notepad++. Windows also has a built-in editor called notepad that can be run \n",
    "from the command line in the same way as nano"
   ]
  },
  {
   "cell_type": "code",
   "execution_count": null,
   "metadata": {},
   "outputs": [],
   "source": [
    "Nano Editor : vim, gedit (ubuntu)\n",
    "    \n",
    "    ctrl +o : save the file\n",
    "    ctrl +x : come out of the file\n",
    "        \n",
    "The touch command generates a new file called my_file.txt in your current directory. You can observe this newly generated file by typing ls at the command line prompt. my_file.txt can also be viewed in your GUI file explorer.\n",
    "\n",
    "Some programs do not generate output files themselves, but instead require that empty files have already been generated. When the program is run, it searches for an existing file to populate with its output. The touch command allows you to efficiently generate a blank text file to be used by such programs."
   ]
  },
  {
   "cell_type": "code",
   "execution_count": null,
   "metadata": {},
   "outputs": [],
   "source": [
    "* is a wildcard, which matches zero or more characters\n",
    "\n",
    "? is also a wildcard, but it matches exactly one character\n",
    "\n",
    "When the shell sees a wildcard, it expands the wildcard to create a list of matching filenames before running the command that was asked for. As an exception, if a wildcard expression does not match any file, \n",
    "Bash will pass the expression as an argument to the command as it is. "
   ]
  },
  {
   "cell_type": "code",
   "execution_count": null,
   "metadata": {},
   "outputs": [],
   "source": [
    "cp [old] [new] copies a file.\n",
    "\n",
    "mkdir [path] creates a new directory.\n",
    "\n",
    "mv [old] [new] moves (renames) a file or directory.\n",
    "\n",
    "rm [path] removes (deletes) a file.\n",
    "\n",
    "* matches zero or more characters in a filename, so *.txt matches all files ending in .txt.\n",
    "\n",
    "? matches any single character in a filename, so ?.txt matches a.txt but not any.txt.\n",
    "\n",
    "Use of the Control key may be described in many ways, including Ctrl-X, Control-X, and ^X.\n",
    "\n",
    "The shell does not have a trash bin: once something is deleted, it’s really gone.\n",
    "\n",
    "Most files’ names are something.extension. The extension isn’t required, and doesn’t guarantee anything, but is normally used to indicate the type of data in the file.\n",
    "\n",
    "Depending on the type of work you do, you may need a more powerful text editor than Nano."
   ]
  },
  {
   "cell_type": "code",
   "execution_count": null,
   "metadata": {},
   "outputs": [],
   "source": [
    "wc counts lines, words, and characters in its inputs.\n",
    "\n",
    "cat displays the contents of its inputs.\n",
    "\n",
    "sort sorts its inputs.\n",
    "\n",
    "head displays the first 10 lines of its input.\n",
    "\n",
    "tail displays the last 10 lines of its input.\n",
    "\n",
    "command > [file] redirects a command’s output to a file (overwriting any existing content).\n",
    "\n",
    "command >> [file] appends a command’s output to a file.\n",
    "\n",
    "[first] | [second] is a pipeline: the output of the first command is used as the input to the second.\n",
    "\n",
    "The best way to use the shell is to use pipes to combine simple single-purpose programs (filters)."
   ]
  },
  {
   "cell_type": "code",
   "execution_count": null,
   "metadata": {},
   "outputs": [],
   "source": [
    "We’ll continue to use cat in this lesson, for convenience and consistency, but it has the disadvantage that it always \n",
    "dumps the whole file onto your screen. More useful in practice is the command less, which you use with less lengths.txt. \n",
    "\n",
    "This displays a screenful of the file, and then stops. \n",
    "You can go forward one screenful by pressing the spacebar, or back one by pressing b. Press q to quit"
   ]
  },
  {
   "cell_type": "code",
   "execution_count": null,
   "metadata": {},
   "outputs": [],
   "source": [
    "for thing in list_of_things\n",
    "do\n",
    "    operation_using $thing    # Indentation within the loop is not required, but aids legibility\n",
    "done"
   ]
  },
  {
   "cell_type": "code",
   "execution_count": null,
   "metadata": {},
   "outputs": [],
   "source": [
    "A for loop repeats commands once for every thing in a list.\n",
    "\n",
    "Every for loop needs a variable to refer to the thing it is currently operating on.\n",
    "\n",
    "Use $name to expand a variable (i.e., get its value). ${name} can also be used.\n",
    "\n",
    "Do not use spaces, quotes, or wildcard characters such as ‘*’ or ‘?’ in filenames, as it complicates variable expansion.\n",
    "\n",
    "Give files consistent names that are easy to match with wildcard patterns to make it easy to select them for looping.\n",
    "\n",
    "Use the up-arrow key to scroll up through previous commands to edit and repeat them.\n",
    "\n",
    "Use Ctrl+R to search through the previously entered commands.\n",
    "\n",
    "Use history to display recent commands, and ![number] to repeat a command by number."
   ]
  },
  {
   "cell_type": "code",
   "execution_count": null,
   "metadata": {},
   "outputs": [],
   "source": [
    "a bunch of commands saved in a file is usually called a shell script\n",
    "\n",
    "The command nano middle.sh opens the file middle.sh within the text editor ‘nano’ (which runs within the shell). \n",
    "If the file does not exist, it will be created\n",
    "\n",
    "Inside a shell script, $1 means ‘the first filename (or other argument) on the command line’.\n",
    "\n",
    "For the same reason that we put the loop variable inside double-quotes, in case the filename happens to contain any spaces, we surround $1 with double-quotes.\n",
    "\n",
    "Currently, we need to edit middle.sh each time we want to adjust the range of lines that is returned. \n",
    "Let’s fix that by configuring our script to instead use three command-line arguments. \n",
    "After the first command-line argument ($1), each additional argument that \n",
    "we provide will be accessible via the special variables $1, $2, $3, which refer to the first, second, \n",
    "third command-line arguments, respectively.\n",
    "\n",
    "A comment starts with a # character and runs to the end of the line. The computer ignores comments, but they’re invaluable for helping people (including your future self) understand and use scripts. The only caveat is that each time you modify the script, you should check that the comment is still accurate: an explanation that sends the reader in the wrong direction is worse than none at all."
   ]
  },
  {
   "cell_type": "code",
   "execution_count": null,
   "metadata": {},
   "outputs": [],
   "source": [
    "Save commands in files (usually called shell scripts) for re-use.\n",
    "\n",
    "bash [filename] runs the commands saved in a file.\n",
    "\n",
    "$@ refers to all of a shell script’s command-line arguments.\n",
    "\n",
    "$1, $2, etc., refer to the first command-line argument, the second command-line argument, etc.\n",
    "\n",
    "Place variables in quotes if the values might have spaces in them.\n",
    "\n",
    "Letting users decide what files to process is more flexible and more consistent with built-in Unix commands."
   ]
  },
  {
   "cell_type": "code",
   "execution_count": null,
   "metadata": {},
   "outputs": [],
   "source": [
    "1)  grep finds and prints lines in files that match a pattern\n",
    "2)  grep -w : limit search to word boundaries\n",
    "3)  grep -w \"the sat\" haiku.txt   :phrase search\n",
    "4)  grep -n The haiku.txt  : which numbers the lines that match\n",
    "5)  grep -i The haiku.txt  : case insensitive search\n",
    "6)  grep -v The haiku.txt  : invert the search\n",
    "7)  grep -r : If we use the -r (recursive) option, grep can search for a pattern recursively through a set of files in subdirectories.\n",
    "    "
   ]
  },
  {
   "cell_type": "code",
   "execution_count": null,
   "metadata": {},
   "outputs": [],
   "source": [
    "Usage: grep [OPTION]... PATTERN [FILE]...\n",
    "Search for PATTERN in each FILE or standard input.\n",
    "PATTERN is, by default, a basic regular expression (BRE).\n",
    "Example: grep -i 'hello world' menu.h main.c\n",
    "\n",
    "Regexp selection and interpretation:\n",
    "  -E, --extended-regexp     PATTERN is an extended regular expression (ERE)\n",
    "  -F, --fixed-strings       PATTERN is a set of newline-separated fixed strings\n",
    "  -G, --basic-regexp        PATTERN is a basic regular expression (BRE)\n",
    "  -P, --perl-regexp         PATTERN is a Perl regular expression\n",
    "  -e, --regexp=PATTERN      use PATTERN for matching\n",
    "  -f, --file=FILE           obtain PATTERN from FILE\n",
    "  -i, --ignore-case         ignore case distinctions\n",
    "  -w, --word-regexp         force PATTERN to match only whole words\n",
    "  -x, --line-regexp         force PATTERN to match only whole lines\n",
    "  -z, --null-data           a data line ends in 0 byte, not newline"
   ]
  }
 ],
 "metadata": {
  "kernelspec": {
   "display_name": "Python 3 (ipykernel)",
   "language": "python",
   "name": "python3"
  },
  "language_info": {
   "codemirror_mode": {
    "name": "ipython",
    "version": 3
   },
   "file_extension": ".py",
   "mimetype": "text/x-python",
   "name": "python",
   "nbconvert_exporter": "python",
   "pygments_lexer": "ipython3",
   "version": "3.9.12"
  }
 },
 "nbformat": 4,
 "nbformat_minor": 4
}
